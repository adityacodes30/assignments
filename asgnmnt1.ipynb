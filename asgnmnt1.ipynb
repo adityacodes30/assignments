{
 "cells": [
  {
   "cell_type": "code",
   "execution_count": 2,
   "metadata": {},
   "outputs": [
    {
     "name": "stdout",
     "output_type": "stream",
     "text": [
      "[11, 12, 13, 14, 50, 60]\n"
     ]
    }
   ],
   "source": [
    "#Q1\n",
    "\n",
    "L= [11, 12, 13, 14]\n",
    "L.append(50)\n",
    "L.append(60)\n",
    "print(L)\n"
   ]
  },
  {
   "cell_type": "code",
   "execution_count": 3,
   "metadata": {},
   "outputs": [
    {
     "name": "stdout",
     "output_type": "stream",
     "text": [
      "[12, 14, 50, 60]\n"
     ]
    }
   ],
   "source": [
    "L.remove(11)\n",
    "L.remove(13)\n",
    "print(L)"
   ]
  },
  {
   "cell_type": "code",
   "execution_count": 4,
   "metadata": {},
   "outputs": [
    {
     "name": "stdout",
     "output_type": "stream",
     "text": [
      "[12, 14, 50, 60]\n",
      "[60, 50, 14, 12]\n"
     ]
    }
   ],
   "source": [
    "L.sort(reverse=False)\n",
    "print(L)\n",
    "\n",
    "L.sort(reverse=True)\n",
    "print(L)\n"
   ]
  },
  {
   "cell_type": "code",
   "execution_count": 5,
   "metadata": {},
   "outputs": [
    {
     "name": "stdout",
     "output_type": "stream",
     "text": [
      "found\n"
     ]
    }
   ],
   "source": [
    "L= [11, 12, 13, 14]\n",
    "\n",
    "if (13 in L):\n",
    "    print(\"found\")\n",
    "else:\n",
    "    print(\"not found\")"
   ]
  },
  {
   "cell_type": "code",
   "execution_count": 6,
   "metadata": {},
   "outputs": [
    {
     "name": "stdout",
     "output_type": "stream",
     "text": [
      "50\n"
     ]
    }
   ],
   "source": [
    "print(sum(L))"
   ]
  },
  {
   "cell_type": "code",
   "execution_count": 7,
   "metadata": {},
   "outputs": [
    {
     "name": "stdout",
     "output_type": "stream",
     "text": [
      "4\n"
     ]
    }
   ],
   "source": [
    "print(len(L))"
   ]
  },
  {
   "cell_type": "code",
   "execution_count": 8,
   "metadata": {},
   "outputs": [
    {
     "name": "stdout",
     "output_type": "stream",
     "text": [
      "[11, 12, 13, 14]\n",
      "24\n"
     ]
    }
   ],
   "source": [
    "print(L)\n",
    "sun =0\n",
    "\n",
    "for i in L:\n",
    "    if i%2 != 0:\n",
    "        sun = sun + i\n",
    "\n",
    "print(sun)"
   ]
  },
  {
   "cell_type": "code",
   "execution_count": 9,
   "metadata": {},
   "outputs": [
    {
     "name": "stdout",
     "output_type": "stream",
     "text": [
      "[11, 12, 13, 14]\n",
      "26\n"
     ]
    }
   ],
   "source": [
    "print(L)\n",
    "sun =0\n",
    "\n",
    "for i in L:\n",
    "    if i%2 == 0:\n",
    "        sun = sun + i\n",
    "\n",
    "print(sun)"
   ]
  },
  {
   "cell_type": "code",
   "execution_count": 10,
   "metadata": {},
   "outputs": [
    {
     "name": "stdout",
     "output_type": "stream",
     "text": [
      "24\n"
     ]
    }
   ],
   "source": [
    "def prime(a):\n",
    "    f=True\n",
    "    for i in range(2, a//2 + 1):\n",
    "\t    if  a % i == 0: \n",
    "\t\t    f=False\n",
    "    return f \n",
    "\n",
    "sun =0\n",
    "for i in L:\n",
    " if prime(i):\t\n",
    "    sun=sun+i\n",
    "\t\n",
    "print(sun)\n",
    "\t\n",
    "    \n",
    "\t\n"
   ]
  },
  {
   "cell_type": "code",
   "execution_count": 11,
   "metadata": {},
   "outputs": [
    {
     "name": "stdout",
     "output_type": "stream",
     "text": [
      "[]\n"
     ]
    }
   ],
   "source": [
    "L.clear()\n",
    "print(L)"
   ]
  },
  {
   "cell_type": "code",
   "execution_count": 12,
   "metadata": {},
   "outputs": [],
   "source": [
    "#del L"
   ]
  },
  {
   "attachments": {},
   "cell_type": "markdown",
   "metadata": {},
   "source": [
    " Q2. D is a dictionary defined as D= {1:5.6, 2:7.8, 3:6.6, 4:8.7, 5:7.7}.\n",
    "(i) WAP to add new entry in D; key=8 and value is 8.8\n",
    "(ii) WAP to remove key=2.\n",
    "(iii) WAP to check weather 6 key is present in D.\n",
    "(iv) WAP to count the number of elements present in D.\n",
    "(v) WAP to add all the values present D.\n",
    "(vi) WAP to update the value of 3 to 7.1.\n",
    "(vii) WAP to clear the dictionary."
   ]
  },
  {
   "cell_type": "code",
   "execution_count": 13,
   "metadata": {},
   "outputs": [
    {
     "name": "stdout",
     "output_type": "stream",
     "text": [
      "{1: 5.6, 2: 7.8, 3: 6.6, 4: 8.7, 5: 7.7, 8: 8.8}\n",
      "{1: 5.6, 3: 6.6, 4: 8.7, 5: 7.7, 8: 8.8}\n",
      "False\n",
      "5\n",
      "37.4\n",
      "{1: 5.6, 3: 7.1, 4: 8.7, 5: 7.7, 8: 8.8}\n",
      "{}\n"
     ]
    }
   ],
   "source": [
    "D= {1:5.6, 2:7.8, 3:6.6, 4:8.7, 5:7.7}\n",
    "\n",
    "#1\n",
    "D[8] = 8.8\n",
    "print(D)\n",
    "\n",
    "del D[2]\n",
    "print(D)\n",
    "\n",
    "print(6 in D)\n",
    "\n",
    "print(len(D))\n",
    "\n",
    "valuesofd = sum(list(D.values()))\n",
    "\n",
    "\n",
    "print(valuesofd)\n",
    "\n",
    "\n",
    "D[3]=7.1\n",
    "print(D)\n",
    "\n",
    "D.clear()\n",
    "print(D)\n",
    "\n",
    "\n"
   ]
  },
  {
   "attachments": {},
   "cell_type": "markdown",
   "metadata": {},
   "source": [
    "Q3. S1 is a set defined as S1= [10, 20, 30, 40, 50, 60]. S2 is a set defined as S2= [40, 50, 60, 70, 80, 90].\n",
    "(i) WAP to add 55 and 66 in Set S1.\n",
    "(ii) WAP to remove 10 and 30 from Set S1.\n",
    "(iii) WAP to check whether 40 is present in S1.\n",
    "(iv) WAP to find the union between S1 and S2.\n",
    "(v) WAP to find the intersection between S1 and S2.\n",
    "(vi) WAP to find the S1 - S2.\n"
   ]
  },
  {
   "cell_type": "code",
   "execution_count": 14,
   "metadata": {},
   "outputs": [
    {
     "name": "stdout",
     "output_type": "stream",
     "text": [
      "True\n",
      "{66, 70, 40, 80, 50, 20, 55, 90, 60}\n",
      "{40, 50, 60}\n",
      "{66, 20, 55}\n"
     ]
    }
   ],
   "source": [
    "S1 = set([10, 20, 30, 40, 50, 60])\n",
    "S2 = set([40, 50, 60, 70, 80, 90])\n",
    "\n",
    "S1.add(55)\n",
    "S1.add(66)\n",
    "\n",
    "S1.remove(10)\n",
    "S1.remove(30)\n",
    "\n",
    "print(40 in S1)\n",
    "\n",
    "print(S1.union(S2))\n",
    "print(S1.intersection(S2))\n",
    "\n",
    "print(S1-S2)\n"
   ]
  },
  {
   "cell_type": "code",
   "execution_count": 25,
   "metadata": {},
   "outputs": [
    {
     "name": "stdout",
     "output_type": "stream",
     "text": [
      "abcdefghijklmnopqrstuvwxyzABCDEFGHIJKLMNOPQRSTUVWXYZ\n",
      "arTXSle\n",
      "eoFRQNL\n",
      "uFzVybl\n",
      "zldONiK\n",
      "jGegYulf\n",
      "pOmVZD\n",
      "wxghcR\n",
      "dLlPVce\n",
      "tWSKJk\n",
      "dXEPZpj\n",
      "GsgEXUfn\n",
      "jzxuYGO\n",
      "crgtRlWG\n",
      "cLdEvSQr\n",
      "cNwhIVRi\n",
      "IclFQuJ\n",
      "LUlHCGj\n",
      "pWaZwkQ\n",
      "XBzSKeo\n",
      "LQOpFr\n",
      "wlmAbgY\n",
      "mzkAFLiG\n",
      "IqHGAv\n",
      "GJvyWl\n",
      "ubSpWfv\n",
      "vbpUtsj\n",
      "udLQsI\n",
      "fMQzNGSE\n",
      "fkvlDS\n",
      "NUClkJa\n",
      "WJuUFoK\n",
      "yxzbJNt\n",
      "jBVZWNR\n",
      "hvgDXn\n",
      "vzTyhEl\n",
      "anDfWU\n",
      "hXsOlYkV\n",
      "dLjxXnsD\n",
      "XNBYERs\n",
      "NJkaWZ\n",
      "viFyJL\n",
      "JGwiNC\n",
      "rwLakfU\n",
      "QjZglDra\n",
      "HKZlaoB\n",
      "BLskviX\n",
      "vFdjxSBX\n",
      "okdQDgbp\n",
      "aQLUodrI\n",
      "vhjiOb\n",
      "NsZvBk\n",
      "KzwCWrYq\n",
      "kTvxGpQo\n",
      "xmWLsO\n",
      "QOvsaiF\n",
      "VrMSPG\n",
      "GeqdIlS\n",
      "SaOqbTj\n",
      "BOPdaDI\n",
      "OZuYHcqe\n",
      "byYQms\n",
      "SkGsCKc\n",
      "dkrXsyg\n",
      "dxjWeU\n",
      "ZfuILipm\n",
      "APYgzJVS\n",
      "yCXlpgkH\n",
      "tCZLXUO\n",
      "cAhjNlmZ\n",
      "MGBliN\n",
      "CLxeWlS\n",
      "qfkLJIwA\n",
      "oKmdEW\n",
      "TORiIwJQ\n",
      "kjJKGpAH\n",
      "vcpyqKWl\n",
      "zLQiXpZ\n",
      "YalKXZ\n",
      "aiZQevm\n",
      "RPElwnUb\n",
      "MqdXNYIa\n",
      "bnXwhf\n",
      "TGYxSwpX\n",
      "bELtqsx\n",
      "EWGHUycK\n",
      "cetUxOFj\n",
      "txhPukZ\n",
      "aRvDPUCA\n",
      "OalvRzHw\n",
      "MPDieTku\n",
      "HtiaPO\n",
      "TzBsxr\n",
      "vHncOrQF\n",
      "bEiaToL\n",
      "oywEsOXn\n",
      "LAohBC\n",
      "rGVJlA\n",
      "RnguWAPF\n",
      "mAYMzODt\n",
      "EkMrZnRc\n"
     ]
    }
   ],
   "source": [
    "import random as r\n",
    "import string as s\n",
    "\n",
    "\n",
    "for i in range(0,100):\n",
    "    print(\"\".join(r.sample(s.ascii_letters, r.randint(6,8))))\n",
    "\n"
   ]
  },
  {
   "cell_type": "code",
   "execution_count": 16,
   "metadata": {},
   "outputs": [
    {
     "name": "stdout",
     "output_type": "stream",
     "text": [
      "601\n",
      "607\n",
      "613\n",
      "617\n",
      "619\n",
      "631\n",
      "641\n",
      "643\n",
      "647\n",
      "653\n",
      "659\n",
      "661\n",
      "673\n",
      "677\n",
      "683\n",
      "691\n"
     ]
    }
   ],
   "source": [
    "for i in range(600,701):\n",
    "    if prime(i):\n",
    "        print(i)"
   ]
  },
  {
   "cell_type": "code",
   "execution_count": 17,
   "metadata": {},
   "outputs": [
    {
     "name": "stdout",
     "output_type": "stream",
     "text": [
      "126\n",
      "189\n",
      "252\n",
      "315\n",
      "378\n",
      "441\n",
      "504\n",
      "567\n",
      "630\n",
      "693\n",
      "756\n",
      "819\n",
      "882\n",
      "945\n"
     ]
    }
   ],
   "source": [
    "for i in range(100,1001):\n",
    "    if i%63==0:\n",
    "        print(i)"
   ]
  },
  {
   "cell_type": "code",
   "execution_count": 18,
   "metadata": {},
   "outputs": [
    {
     "name": "stdout",
     "output_type": "stream",
     "text": [
      "the lists \n",
      "[22, 30, 27, 14, 15, 20, 24, 25, 25, 15]\n",
      "[25, 10, 28, 10, 25, 12, 16, 21, 16, 23]\n",
      "common\n",
      "[25]\n",
      "unique in each \n",
      "[14, 15, 20, 22, 24, 27, 30]\n",
      "[10, 12, 16, 21, 23, 28]\n",
      "min.min.max.max\n",
      "14\n",
      "10\n",
      "30\n",
      "28\n"
     ]
    }
   ],
   "source": [
    "oko = []\n",
    "okt = []\n",
    "\n",
    "for i in range(0,10):\n",
    "    oko.append(r.randint(10,30))\n",
    "    okt.append(r.randint(10,30))\n",
    "\n",
    "print(\"the lists \")\n",
    "print(oko)\n",
    "print(okt)\n",
    "\n",
    "print(\"common\")\n",
    "print(list(set(oko).intersection(set(okt))))\n",
    "\n",
    "\n",
    "print(\"unique in each \")\n",
    "print(list(set(oko)-set(oko).intersection(set(okt))))\n",
    "print(list(set(okt)-set(oko).intersection(set(okt))))\n",
    "\n",
    "print(\"min.min.max.max\")\n",
    "\n",
    "print(min(oko))\n",
    "print(min(okt))\n",
    "\n",
    "print(max(oko))\n",
    "print(max(okt))"
   ]
  },
  {
   "cell_type": "code",
   "execution_count": 19,
   "metadata": {},
   "outputs": [],
   "source": [
    "dicr = {1:\"One\",2:\"Two\",3:\"Three\",4:\"Four\", 5:\"Five\"}\n",
    "\n",
    "fp = open(\"asgnmnt1 files/dictprint.txt\" , 'w')\n",
    "\n",
    "for i in dicr:\n",
    "    fp.write(f\"{i},{dicr[i]} \\n\")\n",
    "   \n",
    "\n",
    "fp.close()\n"
   ]
  },
  {
   "cell_type": "code",
   "execution_count": 20,
   "metadata": {},
   "outputs": [
    {
     "name": "stdout",
     "output_type": "stream",
     "text": [
      "5\n"
     ]
    }
   ],
   "source": [
    "L=[\"One\",\"Two\",\"Three\",\"Four\",\"Five\"]\n",
    "\n",
    "print(len(L[2]))\n",
    "fp = open(\"asgnmnt1 files/listprint.txt\" , 'w')\n",
    "\n",
    "for i in L:\n",
    "    fp.write(f\"{i},{len(i)} \\n\")\n",
    "   \n",
    "\n",
    "fp.close()\n",
    "\n"
   ]
  },
  {
   "cell_type": "code",
   "execution_count": 21,
   "metadata": {},
   "outputs": [],
   "source": [
    "fp = open(\"asgnmnt1 files/random strings.txt\" , 'w')\n",
    "\n",
    "for i in range(0,100):\n",
    "    rr = \"\".join(r.sample(s.ascii_letters, r.randint(10,15)))\n",
    "    fp.write(rr + \"\\n\")\n",
    "   \n",
    "\n",
    "fp.close()"
   ]
  },
  {
   "cell_type": "code",
   "execution_count": 22,
   "metadata": {},
   "outputs": [],
   "source": [
    "fp = open(\"asgnmnt1 files/primenum.txt\" , 'w')\n",
    "\n",
    "for i in range(600,801):\n",
    "    if prime(i):\n",
    "        fp.write(str(i) + \"\\n\")\n",
    "        \n",
    "   \n",
    "\n",
    "fp.close()"
   ]
  },
  {
   "cell_type": "code",
   "execution_count": 23,
   "metadata": {},
   "outputs": [
    {
     "name": "stdout",
     "output_type": "stream",
     "text": [
      "[5000, 10000, 15000, 20000, 25000]\n",
      "[9.5367431640625e-07, 0.0, 9.5367431640625e-07, 0.0, 0.0]\n"
     ]
    }
   ],
   "source": [
    "import time as t \n",
    "\n",
    "elements = []\n",
    "timetaken = []\n",
    "\n",
    "for i in range(1,6):\n",
    "    lk = []\n",
    "    elements.append(i*5000)\n",
    "    for i in range(0,i*5000):\n",
    "        lk.append(r.randint(0,i*10000))\n",
    "    starttime = t.time()\n",
    "    lk.sort\n",
    "    endtime=t.time()\n",
    "    timetaken.append(endtime-starttime)\n",
    "\n",
    "print(elements)\n",
    "print(timetaken)\n",
    "\n",
    "\n"
   ]
  },
  {
   "cell_type": "code",
   "execution_count": 24,
   "metadata": {},
   "outputs": [
    {
     "data": {
      "text/plain": [
       "Text(0.5, 0, 'Number of elements')"
      ]
     },
     "execution_count": 24,
     "metadata": {},
     "output_type": "execute_result"
    },
    {
     "data": {
      "image/png": "[encoded data removed]",
      "text/plain": [
       "<Figure size 640x480 with 1 Axes>"
      ]
     },
     "metadata": {},
     "output_type": "display_data"
    }
   ],
   "source": [
    "import matplotlib.pyplot as plt \n",
    "import seaborn as sns\n",
    "\n",
    "sns.lineplot(x=elements,y=timetaken)\n",
    "\n",
    "sns.lineplot(x=elements,y=timetaken).set_ylabel('time taken')\n",
    "sns.lineplot(x=elements,y=timetaken).set_xlabel('Number of elements')"
   ]
  },
  {
   "cell_type": "code",
   "execution_count": null,
   "metadata": {},
   "outputs": [],
   "source": []
  }
 ],
 "metadata": {
  "kernelspec": {
   "display_name": "test-env",
   "language": "python",
   "name": "python3"
  },
  "language_info": {
   "codemirror_mode": {
    "name": "ipython",
    "version": 3
   },
   "file_extension": ".py",
   "mimetype": "text/x-python",
   "name": "python",
   "nbconvert_exporter": "python",
   "pygments_lexer": "ipython3",
   "version": "3.9.6"
  },
  "orig_nbformat": 4
 },
 "nbformat": 4,
 "nbformat_minor": 2
}
