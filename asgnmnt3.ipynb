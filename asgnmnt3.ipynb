{
 "cells": [
  {
   "attachments": {},
   "cell_type": "markdown",
   "metadata": {},
   "source": [
    "#Q1. Create a file that contains 1000 lines of random strings."
   ]
  },
  {
   "cell_type": "code",
   "execution_count": 17,
   "metadata": {},
   "outputs": [],
   "source": [
    "import random as r\n",
    "import string as s\n",
    "\n",
    "fp = open('1000strings.txt' , 'w')\n",
    "\n",
    "for i in range(0,1000):\n",
    "    k = r.sample(s.ascii_letters+s.digits+s.punctuation, r.randint(1,20))\n",
    "    k = r.sample(s.ascii_letters+s.digits+s.punctuation, r.randint(1,20))\n",
    "    v = ''.join(k)\n",
    "    fp.write(f'{v}\\n')\n",
    "\n",
    "fp.close()"
   ]
  },
  {
   "attachments": {},
   "cell_type": "markdown",
   "metadata": {},
   "source": [
    "#Q2. Create a file that contains multiple lines of random strings and file size must be 5 MB."
   ]
  },
  {
   "cell_type": "code",
   "execution_count": 20,
   "metadata": {},
   "outputs": [],
   "source": [
    "import random as r\n",
    "import string as s\n",
    "\n",
    "fp = open('5mb-strings.txt' , 'w')\n",
    "\n",
    "while(fp.tell()<5000000):\n",
    "    k = r.sample(s.ascii_letters+s.digits+s.punctuation, r.randint(1,20))\n",
    "    k = r.sample(s.ascii_letters+s.digits+s.punctuation, r.randint(1,20))\n",
    "    v = ''.join(k)\n",
    "    fp.write(f'{v}\\n')\n",
    "\n",
    "fp.close()"
   ]
  },
  {
   "attachments": {},
   "cell_type": "markdown",
   "metadata": {},
   "source": [
    "#Q3. Create 10 files that contains multiple lines of random strings and file size of each file must be 5 MB."
   ]
  },
  {
   "cell_type": "code",
   "execution_count": 19,
   "metadata": {},
   "outputs": [],
   "source": [
    "import random as r\n",
    "import string as s\n",
    "\n",
    "for i in range(1,6):\n",
    "\n",
    "    fp = open(f'5mb-strings{i}.txt' , 'w')\n",
    "\n",
    "    while(fp.tell()<5000000):\n",
    "        k = r.sample(s.ascii_letters+s.digits+s.punctuation, r.randint(1,20))\n",
    "        k = r.sample(s.ascii_letters+s.digits+s.punctuation, r.randint(1,20))\n",
    "        v = ''.join(k)\n",
    "        fp.write(f'{v}\\n')\n",
    "\n",
    "    fp.close()"
   ]
  },
  {
   "attachments": {},
   "cell_type": "markdown",
   "metadata": {},
   "source": [
    "#Q4. Create 5 files of size 1GB, 2GB, 3GB, 4GB and 5GB; file contains multiple lines of random strings."
   ]
  },
  {
   "cell_type": "code",
   "execution_count": 38,
   "metadata": {},
   "outputs": [],
   "source": [
    "#doing 10mv, 20 mb instead\n",
    "\n",
    "\n",
    "for i in range(1,6):\n",
    "\n",
    "    fp = open(f'{i}0-Mb-file.txt' , 'w')\n",
    "\n",
    "    while(fp.tell()<10000000*i):\n",
    "        k = r.sample(s.ascii_letters+s.digits+s.punctuation, r.randint(1,20))\n",
    "        k = r.sample(s.ascii_letters+s.digits+s.punctuation, r.randint(1,20))\n",
    "        v = ''.join(k)\n",
    "        fp.write(f'{v}')\n",
    "\n",
    "    fp.close()"
   ]
  },
  {
   "attachments": {},
   "cell_type": "markdown",
   "metadata": {},
   "source": [
    "#Q5. Convert all the files of Q4 into upper case one by one."
   ]
  },
  {
   "cell_type": "code",
   "execution_count": null,
   "metadata": {},
   "outputs": [],
   "source": [
    "import time as t \n",
    "\n",
    "start = t.time()\n",
    "for i in range(1,6):\n",
    "    fp = open(f'{i}0-Mb-file.txt' , 'r')\n",
    "    temp = fp.readline()\n",
    "    fp = open(f'{i}0-Mb-file.txt' , 'w')\n",
    "    fp.write(temp.upper())\n",
    "    fp.close()\n",
    "\n",
    "end = t.time()\n",
    "\n",
    "elapsed= start - end \n",
    "\n",
    "print(elapsed)"
   ]
  },
  {
   "attachments": {},
   "cell_type": "markdown",
   "metadata": {},
   "source": [
    "Q6. Convert all the files of Q4 into upper case parallel using multi-threading."
   ]
  },
  {
   "cell_type": "code",
   "execution_count": null,
   "metadata": {},
   "outputs": [],
   "source": [
    "from concurrent.futures import ThreadPoolExecutor\n",
    "\n",
    "def convert_upper(p):\n",
    "    fp = open(p,'r')\n",
    "    temp = fp.readline()\n",
    "    fp = open(p,'w')\n",
    "    fp.write(temp.upper())\n",
    "    fp.close()\n",
    "\n",
    "o =[]\n",
    "for i in range(1,6):\n",
    "    o.append(f'{i}0-Mb-file.txt')\n",
    "\n",
    "start = t.time()\n",
    "\n",
    "with ThreadPoolExecutor(max_workers=5) as executor:\n",
    "    for result in executor.map(convert_upper,o ):\n",
    "        print('done')\n",
    "\n",
    "end = t.time()\n",
    "\n",
    "elapsed= start - end \n",
    "\n",
    "print(elapsed)\n"
   ]
  },
  {
   "cell_type": "code",
   "execution_count": 48,
   "metadata": {},
   "outputs": [
    {
     "ename": "SyntaxError",
     "evalue": "invalid syntax (792093171.py, line 1)",
     "output_type": "error",
     "traceback": [
      "\u001b[0;36m  Cell \u001b[0;32mIn[48], line 1\u001b[0;36m\u001b[0m\n\u001b[0;31m    print(./)\u001b[0m\n\u001b[0m          ^\u001b[0m\n\u001b[0;31mSyntaxError\u001b[0m\u001b[0;31m:\u001b[0m invalid syntax\n"
     ]
    }
   ],
   "source": []
  },
  {
   "attachments": {},
   "cell_type": "markdown",
   "metadata": {},
   "source": [
    "Q7. WAP to automatically download 10 images of cat from “Google Images”. [Hint: Find the package from\n",
    "pypi.org and use it]"
   ]
  },
  {
   "cell_type": "code",
   "execution_count": 50,
   "metadata": {},
   "outputs": [
    {
     "name": "stdout",
     "output_type": "stream",
     "text": [
      "On page 1: cat\n",
      "\tScraping item 10 (10 / 10) from page 1 (1/1)\n",
      "\n"
     ]
    }
   ],
   "source": [
    "from keygim.keygim import KeyGoogleImages\n",
    "GoogleImageDownloader = KeyGoogleImages.GoogleImageDownloader\n",
    "search_strings = [ \"cat\" ]\n",
    "large = True\n",
    "mode = GoogleImageDownloader.MODE_CHROME\n",
    "driver_path = \"./chromedriver.exe\"\n",
    "folder_name = \"./im-g/\"\n",
    "downloader = GoogleImageDownloader(search_strings, mode, driver_path)\n",
    "downloader.configure(\n",
    "  folder_name = folder_name,\n",
    "  search_large = large\n",
    ")\n",
    "downloader.download()\n",
    "downloader.cleanup()"
   ]
  },
  {
   "attachments": {},
   "cell_type": "markdown",
   "metadata": {},
   "source": [
    "Q8. WAP to automatically download 10 videos of “Machine Learning” from “Youtube.com”. [Hint: Find the\n",
    "package from pypi.org and use it]"
   ]
  },
  {
   "attachments": {},
   "cell_type": "markdown",
   "metadata": {},
   "source": [
    "using 2 packages (pip install unlimited-youtube-search) and (pip install pytube)\n",
    "\n",
    "pytube documentation at pytube.io"
   ]
  },
  {
   "cell_type": "code",
   "execution_count": 70,
   "metadata": {},
   "outputs": [
    {
     "name": "stderr",
     "output_type": "stream",
     "text": [
      "Unexpected renderer encountered.\n",
      "Renderer name: dict_keys(['reelShelfRenderer'])\n",
      "Search term: Machine learning\n",
      "Please open an issue at https://github.com/pytube/pytube/issues and provide this log output.\n",
      "Unexpected renderer encountered.\n",
      "Renderer name: dict_keys(['reelShelfRenderer'])\n",
      "Search term: Machine learning\n",
      "Please open an issue at https://github.com/pytube/pytube/issues and provide this log output.\n"
     ]
    }
   ],
   "source": [
    "from pytube import Search\n",
    "from pytube import YouTube\n",
    "s = Search('Machine learning')\n",
    "k = s.results\n",
    "\n",
    "\n"
   ]
  },
  {
   "cell_type": "code",
   "execution_count": 69,
   "metadata": {},
   "outputs": [
    {
     "data": {
      "text/plain": [
       "<pytube.__main__.YouTube object: videoId=CBYhVcO4WgI>"
      ]
     },
     "execution_count": 69,
     "metadata": {},
     "output_type": "execute_result"
    }
   ],
   "source": [
    "from pytube import YouTube\n",
    "url = 'https://www.youtube.com/watch?v=CBYhVcO4WgI'\n",
    "\n",
    "vid = YouTube(url)\n",
    "vid\n",
    "\n",
    "#vid = YouTube(url).streams.get_highest_resolution()\n",
    "#vid.download()"
   ]
  }
 ],
 "metadata": {
  "kernelspec": {
   "display_name": "test-env",
   "language": "python",
   "name": "python3"
  },
  "language_info": {
   "codemirror_mode": {
    "name": "ipython",
    "version": 3
   },
   "file_extension": ".py",
   "mimetype": "text/x-python",
   "name": "python",
   "nbconvert_exporter": "python",
   "pygments_lexer": "ipython3",
   "version": "3.9.6"
  },
  "orig_nbformat": 4
 },
 "nbformat": 4,
 "nbformat_minor": 2
}
