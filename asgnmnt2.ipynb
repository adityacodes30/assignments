{
 "cells": [
  {
   "cell_type": "code",
   "execution_count": 5,
   "metadata": {},
   "outputs": [
    {
     "name": "stdout",
     "output_type": "stream",
     "text": [
      "['Ram', 'Shyam', 'Aman']\n",
      "[1, 2, 3]\n",
      "['Aman', 'Ram', 'Shyam', 1, 2, 3]\n"
     ]
    }
   ],
   "source": [
    "L = [\"Ram\", 1, \"Shyam\", 2, \"Aman\", 3]\n",
    "\n",
    "n = []\n",
    "\n",
    "for i in L:\n",
    "    if type(i)==int:\n",
    "        n.append(i)\n",
    "        L.remove(i)\n",
    "\n",
    "print(L)\n",
    "print(n)\n",
    "\n",
    "L.sort()\n",
    "n.sort()\n",
    "\n",
    "L = L + n\n",
    "\n",
    "print(L)\n",
    "\n",
    "\n",
    "\n"
   ]
  }
 ],
 "metadata": {
  "kernelspec": {
   "display_name": "test-env",
   "language": "python",
   "name": "python3"
  },
  "language_info": {
   "codemirror_mode": {
    "name": "ipython",
    "version": 3
   },
   "file_extension": ".py",
   "mimetype": "text/x-python",
   "name": "python",
   "nbconvert_exporter": "python",
   "pygments_lexer": "ipython3",
   "version": "3.9.6"
  },
  "orig_nbformat": 4
 },
 "nbformat": 4,
 "nbformat_minor": 2
}
